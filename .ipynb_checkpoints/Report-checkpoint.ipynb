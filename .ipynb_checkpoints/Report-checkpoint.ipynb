{
 "cells": [
  {
   "cell_type": "markdown",
   "metadata": {},
   "source": [
    "# Computer Networks - TCP Congestion Control \n",
    "### Zhivar Sourati - 810196502\n",
    "### Mohsen Fayyaz - 810196650"
   ]
  },
  {
   "cell_type": "markdown",
   "metadata": {},
   "source": [
    "<ul>\n",
    "    <li><b>سلام</b><br>\n",
    "        <ul>\n",
    "            <li>\n",
    "                <b>Initial State:</b> map read from the file\n",
    "            </li>\n",
    "            <li>\n",
    "                <b>Goal State:</b> a map which doesn't contain any numbers in it i.e. 1,2 or 3.\n",
    "            </li>\n",
    "            <li>\n",
    "                <b>actions:</b> There are 8 different possible actions in any state which are moving P or Q one block to one of the four cardinal directions. (The move might not be possible due to colliding with walls or etc.)\n",
    "            </li>\n",
    "        </ul>\n",
    "    </li>\n",
    "</ul>"
   ]
  },
  {
   "cell_type": "markdown",
   "metadata": {},
   "source": [
    "# CWND)\n",
    "\n"
   ]
  },
  {
   "cell_type": "markdown",
   "metadata": {},
   "source": [
    "# Goodput)"
   ]
  },
  {
   "cell_type": "markdown",
   "metadata": {},
   "source": [
    "# Packet Loss)\n",
    "\n"
   ]
  },
  {
   "cell_type": "markdown",
   "metadata": {},
   "source": [
    "# RTT:"
   ]
  },
  {
   "cell_type": "code",
   "execution_count": 2,
   "metadata": {},
   "outputs": [
    {
     "name": "stdout",
     "output_type": "stream",
     "text": [
      "Loading...\n",
      "Loading...\n",
      "Loading...\n"
     ]
    }
   ],
   "source": [
    "import os\n",
    "\n",
    "\n",
    "def main():\n",
    "#     TCP is Tahoe\n",
    "    for tcpAlgorithm in [\"TCP/Newreno\", \"TCP\", \"TCP/Vegas\"]:\n",
    "        print(\"Loading...\")\n",
    "#         os.system('ns main.tcl ' + tcpAlgorithm)\n",
    "        os.popen('ns main.tcl' + tcpAlgorithm).read()\n",
    "#         print(open('tmp', 'r').read())\n",
    "#         os.remove('tmp')\n",
    "\n",
    "\n",
    "main()"
   ]
  },
  {
   "cell_type": "markdown",
   "metadata": {},
   "source": [
    "Sources:\n",
    "\n",
    "https://www.isi.edu/nsnam/ns/doc/node387.html\n",
    "\n",
    "    Agent/TCP - a ``tahoe'' TCP sender\n",
    "    Agent/TCP/Reno - a ``Reno'' TCP sender\n",
    "    Agent/TCP/Newreno - Reno with a modification\n",
    "    Agent/TCP/Sack1 - TCP with selective repeat (follows RFC2018)\n",
    "    Agent/TCP/Vegas - TCP Vegas\n",
    "    Agent/TCP/Fack - Reno TCP with ``forward acknowledgment''\n",
    "    Agent/TCP/Linux - a TCP sender with SACK support that runs TCP congestion control modules from Linux kernel\n",
    "\n"
   ]
  },
  {
   "cell_type": "code",
   "execution_count": null,
   "metadata": {},
   "outputs": [],
   "source": []
  }
 ],
 "metadata": {
  "kernelspec": {
   "display_name": "Python 3",
   "language": "python",
   "name": "python3"
  },
  "language_info": {
   "codemirror_mode": {
    "name": "ipython",
    "version": 3
   },
   "file_extension": ".py",
   "mimetype": "text/x-python",
   "name": "python",
   "nbconvert_exporter": "python",
   "pygments_lexer": "ipython3",
   "version": "3.8.2"
  },
  "pycharm": {
   "stem_cell": {
    "cell_type": "raw",
    "metadata": {
     "collapsed": false
    },
    "source": []
   }
  }
 },
 "nbformat": 4,
 "nbformat_minor": 2
}
